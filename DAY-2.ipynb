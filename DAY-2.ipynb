{
 "cells": [
  {
   "cell_type": "code",
   "execution_count": 1,
   "id": "64d2b137",
   "metadata": {},
   "outputs": [
    {
     "name": "stdout",
     "output_type": "stream",
     "text": [
      "First element in the list: 10\n",
      "Last element in the list: 50\n",
      "Elements from index 1 to 3 in the list: [20, 30, 40]\n",
      "Second element in the tuple: banana\n",
      "Last two elements in the tuple: ('date', 'elderberry')\n",
      "First three elements in the tuple: ('apple', 'banana', 'cherry')\n",
      "Value associated with 'name': Alice\n",
      "Value associated with 'profession': Engineer\n",
      "Value associated with 'hobby': Photography\n",
      "Value associated with a non-existent key (default None): None\n"
     ]
    }
   ],
   "source": [
    "# Creating a List\n",
    "my_list = [10, 20, 30, 40, 50]\n",
    "\n",
    "# Accessing elements from the List\n",
    "print(f\"First element in the list: {my_list[0]}\")\n",
    "print(f\"Last element in the list: {my_list[-1]}\")\n",
    "print(f\"Elements from index 1 to 3 in the list: {my_list[1:4]}\")\n",
    "\n",
    "# Creating a Tuple\n",
    "my_tuple = ('apple', 'banana', 'cherry', 'date', 'elderberry')\n",
    "\n",
    "# Accessing elements from the Tuple\n",
    "print(f\"Second element in the tuple: {my_tuple[1]}\")\n",
    "print(f\"Last two elements in the tuple: {my_tuple[-2:]}\")\n",
    "print(f\"First three elements in the tuple: {my_tuple[:3]}\")\n",
    "\n",
    "# Creating a Dictionary\n",
    "my_dict = {\n",
    "    'name': 'Alice',\n",
    "    'age': 30,\n",
    "    'city': 'New York',\n",
    "    'profession': 'Engineer',\n",
    "    'hobby': 'Photography'\n",
    "}\n",
    "\n",
    "# Accessing elements from the Dictionary\n",
    "print(f\"Value associated with 'name': {my_dict['name']}\")\n",
    "print(f\"Value associated with 'profession': {my_dict['profession']}\")\n",
    "\n",
    "# Using the `.get()` method to access elements safely\n",
    "print(f\"Value associated with 'hobby': {my_dict.get('hobby')}\")\n",
    "print(f\"Value associated with a non-existent key (default None): {my_dict.get('salary')}\")\n"
   ]
  },
  {
   "cell_type": "code",
   "execution_count": null,
   "id": "6cb71145",
   "metadata": {},
   "outputs": [],
   "source": []
  }
 ],
 "metadata": {
  "kernelspec": {
   "display_name": "Python 3 (ipykernel)",
   "language": "python",
   "name": "python3"
  },
  "language_info": {
   "codemirror_mode": {
    "name": "ipython",
    "version": 3
   },
   "file_extension": ".py",
   "mimetype": "text/x-python",
   "name": "python",
   "nbconvert_exporter": "python",
   "pygments_lexer": "ipython3",
   "version": "3.11.4"
  }
 },
 "nbformat": 4,
 "nbformat_minor": 5
}
