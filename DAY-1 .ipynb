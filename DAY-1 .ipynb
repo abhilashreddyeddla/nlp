{
 "cells": [
  {
   "cell_type": "code",
   "execution_count": 1,
   "id": "d02093d2",
   "metadata": {},
   "outputs": [
    {
     "name": "stdout",
     "output_type": "stream",
     "text": [
      "Integer variable: 10, Type: <class 'int'>\n",
      "Float variable: 20.5, Type: <class 'float'>\n",
      "String variable: Hello, Jupyter!, Type: <class 'str'>\n",
      "Boolean variable: True, Type: <class 'bool'>\n"
     ]
    }
   ],
   "source": [
    "# Declare variables of different data types\n",
    "integer_var = 10\n",
    "float_var = 20.5\n",
    "string_var = \"Hello, Jupyter!\"\n",
    "boolean_var = True\n",
    "\n",
    "# Print each variable and its type\n",
    "print(f\"Integer variable: {integer_var}, Type: {type(integer_var)}\")\n",
    "print(f\"Float variable: {float_var}, Type: {type(float_var)}\")\n",
    "print(f\"String variable: {string_var}, Type: {type(string_var)}\")\n",
    "print(f\"Boolean variable: {boolean_var}, Type: {type(boolean_var)}\")\n"
   ]
  },
  {
   "cell_type": "code",
   "execution_count": null,
   "id": "f5103e78",
   "metadata": {},
   "outputs": [],
   "source": []
  }
 ],
 "metadata": {
  "kernelspec": {
   "display_name": "Python 3 (ipykernel)",
   "language": "python",
   "name": "python3"
  },
  "language_info": {
   "codemirror_mode": {
    "name": "ipython",
    "version": 3
   },
   "file_extension": ".py",
   "mimetype": "text/x-python",
   "name": "python",
   "nbconvert_exporter": "python",
   "pygments_lexer": "ipython3",
   "version": "3.11.4"
  }
 },
 "nbformat": 4,
 "nbformat_minor": 5
}
