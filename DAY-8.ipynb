{
 "cells": [
  {
   "cell_type": "code",
   "execution_count": 1,
   "id": "307629f8",
   "metadata": {},
   "outputs": [
    {
     "name": "stderr",
     "output_type": "stream",
     "text": [
      "[nltk_data] Downloading package punkt to\n",
      "[nltk_data]     C:\\Users\\sruja\\AppData\\Roaming\\nltk_data...\n",
      "[nltk_data]   Unzipping tokenizers\\punkt.zip.\n"
     ]
    },
    {
     "name": "stdout",
     "output_type": "stream",
     "text": [
      "Original Paragraph: Natural Language Processing (NLP) is a fascinating field of study.\n",
      "It involves the interaction between computers and humans using natural language.\n",
      "There are many applications of NLP, such as sentiment analysis, language translation, and chatbots.\n",
      "\n",
      "Tokenized Sentences: ['Natural Language Processing (NLP) is a fascinating field of study.', 'It involves the interaction between computers and humans using natural language.', 'There are many applications of NLP, such as sentiment analysis, language translation, and chatbots.']\n",
      "\n",
      "Tokenized Words: ['Natural', 'Language', 'Processing', '(', 'NLP', ')', 'is', 'a', 'fascinating', 'field', 'of', 'study', '.', 'It', 'involves', 'the', 'interaction', 'between', 'computers', 'and', 'humans', 'using', 'natural', 'language', '.', 'There', 'are', 'many', 'applications', 'of', 'NLP', ',', 'such', 'as', 'sentiment', 'analysis', ',', 'language', 'translation', ',', 'and', 'chatbots', '.']\n"
     ]
    }
   ],
   "source": [
    "import nltk\n",
    "\n",
    "nltk.download('punkt')\n",
    "\n",
    "paragraph = \"\"\"Natural Language Processing (NLP) is a fascinating field of study.\n",
    "It involves the interaction between computers and humans using natural language.\n",
    "There are many applications of NLP, such as sentiment analysis, language translation, and chatbots.\"\"\"\n",
    "\n",
    "sentences = nltk.sent_tokenize(paragraph)\n",
    "\n",
    "words = nltk.word_tokenize(paragraph)\n",
    "\n",
    "print(\"Original Paragraph:\", paragraph)\n",
    "print(\"\\nTokenized Sentences:\", sentences)\n",
    "print(\"\\nTokenized Words:\", words)"
   ]
  },
  {
   "cell_type": "code",
   "execution_count": null,
   "id": "14a954be",
   "metadata": {},
   "outputs": [],
   "source": []
  }
 ],
 "metadata": {
  "kernelspec": {
   "display_name": "Python 3 (ipykernel)",
   "language": "python",
   "name": "python3"
  },
  "language_info": {
   "codemirror_mode": {
    "name": "ipython",
    "version": 3
   },
   "file_extension": ".py",
   "mimetype": "text/x-python",
   "name": "python",
   "nbconvert_exporter": "python",
   "pygments_lexer": "ipython3",
   "version": "3.11.4"
  }
 },
 "nbformat": 4,
 "nbformat_minor": 5
}
